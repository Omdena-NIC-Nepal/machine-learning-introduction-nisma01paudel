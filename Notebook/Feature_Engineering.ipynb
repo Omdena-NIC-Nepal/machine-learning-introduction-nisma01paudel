{
 "cells": [
  {
   "cell_type": "code",
   "execution_count": 1,
   "id": "86cb49d9",
   "metadata": {},
   "outputs": [],
   "source": [
    "import pandas as pd\n",
    "import numpy as np\n",
    "from sklearn.linear_model import LinearRegression\n",
    "from sklearn.metrics import mean_squared_error, r2_score\n",
    "from sklearn.model_selection import train_test_split\n",
    "from sklearn.preprocessing import StandardScaler"
   ]
  },
  {
   "cell_type": "code",
   "execution_count": 3,
   "id": "4e3abaea",
   "metadata": {},
   "outputs": [
    {
     "name": "stdout",
     "output_type": "stream",
     "text": [
      "Original and preprocessed data loaded successfully!\n",
      "Original data shape: (506, 14)\n"
     ]
    }
   ],
   "source": [
    "# Load the original dataset and preprocessed data\n",
    "data = pd.read_csv('../data/BostonHousing.csv')\n",
    "X_train = pd.read_csv('../data/X_train.csv')\n",
    "X_test = pd.read_csv('../data/X_test.csv')\n",
    "y_train = pd.read_csv('../data/y_train.csv').values.ravel()\n",
    "y_test = pd.read_csv('../data/y_test.csv').values.ravel()\n",
    "\n",
    "print(\"Original and preprocessed data loaded successfully!\")\n",
    "print(\"Original data shape:\", data.shape)"
   ]
  },
  {
   "cell_type": "code",
   "execution_count": 4,
   "id": "00108f39",
   "metadata": {},
   "outputs": [
    {
     "name": "stdout",
     "output_type": "stream",
     "text": [
      "\n",
      "New features added:\n",
      "   RM_LSTAT  LSTAT_sq  log_CRIM  TAX_per_RM\n",
      "0  32.74350   24.8004  0.006300   45.019011\n",
      "1  58.68794   83.5396  0.026944   37.688834\n",
      "2  28.95555   16.2409  0.026924   33.681280\n",
      "3  20.57412    8.6436  0.031857   31.723350\n",
      "4  38.09351   28.4089  0.066770   31.061984\n"
     ]
    }
   ],
   "source": [
    "# Create new features\n",
    "# We'll add features to the original dataset before splitting/scaling\n",
    "# 1. Interaction term: RM * LSTAT (rooms and socio-economic status might interact)\n",
    "data['RM_LSTAT'] = data['RM'] * data['LSTAT']\n",
    "\n",
    "# 2. Polynomial feature: LSTAT^2 (non-linear relationship with MEDV)\n",
    "data['LSTAT_sq'] = data['LSTAT'] ** 2\n",
    "\n",
    "# 3. Log transformation: CRIM (crime rate is skewed, log might help)\n",
    "data['log_CRIM'] = np.log1p(data['CRIM'])  # log1p handles zeros\n",
    "\n",
    "# 4. Ratio: TAX/RM (tax burden per room)\n",
    "data['TAX_per_RM'] = data['TAX'] / data['RM']\n",
    "\n",
    "print(\"\\nNew features added:\")\n",
    "print(data[['RM_LSTAT', 'LSTAT_sq', 'log_CRIM', 'TAX_per_RM']].head())"
   ]
  },
  {
   "cell_type": "code",
   "execution_count": 5,
   "id": "4dd86ed9",
   "metadata": {},
   "outputs": [],
   "source": [
    "# Step 2: Test different feature combinations\n",
    "# Prepare features\n",
    "X = data.drop('MEDV', axis=1)\n",
    "y = data['MEDV']\n",
    "\n",
    "# Standardize all features (including new ones)\n",
    "scaler = StandardScaler()\n",
    "X_scaled = scaler.fit_transform(X)\n",
    "X_scaled = pd.DataFrame(X_scaled, columns=X.columns)\n",
    "\n",
    "# Split data again to ensure consistency\n",
    "X_train_new, X_test_new, y_train_new, y_test_new = train_test_split(\n",
    "    X_scaled, y, test_size=0.2, random_state=42\n",
    ")"
   ]
  },
  {
   "cell_type": "code",
   "execution_count": 6,
   "id": "1c9e29b3",
   "metadata": {},
   "outputs": [],
   "source": [
    "# Define feature sets to test\n",
    "feature_sets = {\n",
    "    'Original': X_train.columns,  # Original 13 features\n",
    "    'Original + RM_LSTAT': list(X_train.columns) + ['RM_LSTAT'],\n",
    "    'Original + LSTAT_sq': list(X_train.columns) + ['LSTAT_sq'],\n",
    "    'Original + All New': X_train_new.columns  # All features including new ones\n",
    "}"
   ]
  },
  {
   "cell_type": "code",
   "execution_count": 7,
   "id": "566b6db5",
   "metadata": {},
   "outputs": [],
   "source": [
    "# Step 3: Evaluate the impact of new features on model performance\n",
    "results = {}\n",
    "\n",
    "for name, features in feature_sets.items():\n",
    "    # Select features\n",
    "    X_train_subset = X_train_new[features]\n",
    "    X_test_subset = X_test_new[features]\n",
    "\n",
    "    # Train Linear Regression model\n",
    "    model = LinearRegression()\n",
    "    model.fit(X_train_subset, y_train_new)\n",
    "\n",
    "    # Predict and evaluate\n",
    "    y_test_pred = model.predict(X_test_subset)\n",
    "    mse = mean_squared_error(y_test_new, y_test_pred)\n",
    "    r2 = r2_score(y_test_new, y_test_pred)"
   ]
  },
  {
   "cell_type": "code",
   "execution_count": 12,
   "id": "831b57f0",
   "metadata": {},
   "outputs": [
    {
     "name": "stdout",
     "output_type": "stream",
     "text": [
      "\n",
      "Performance with Original + All New:\n",
      "Mean Squared Error (MSE): 14.96\n",
      "R² Score: 0.80\n",
      "\n",
      "Summary of Feature Set Performance:\n",
      "Original + All New: MSE = 14.96, R² = 0.80\n"
     ]
    }
   ],
   "source": [
    "results[name] = {'MSE': mse, 'R²': r2}\n",
    "print(f\"\\nPerformance with {name}:\")\n",
    "print(f\"Mean Squared Error (MSE): {mse:.2f}\")\n",
    "print(f\"R² Score: {r2:.2f}\")\n",
    "\n",
    "# Compare results\n",
    "print(\"\\nSummary of Feature Set Performance:\")\n",
    "for name, metrics in results.items():\n",
    "    print(f\"{name}: MSE = {metrics['MSE']:.2f}, R² = {metrics['R²']:.2f}\")"
   ]
  },
  {
   "cell_type": "code",
   "execution_count": null,
   "id": "534d62c6",
   "metadata": {},
   "outputs": [],
   "source": []
  },
  {
   "cell_type": "code",
   "execution_count": null,
   "id": "cd592eeb",
   "metadata": {},
   "outputs": [],
   "source": []
  },
  {
   "cell_type": "code",
   "execution_count": null,
   "id": "4c344c52",
   "metadata": {},
   "outputs": [],
   "source": []
  },
  {
   "cell_type": "code",
   "execution_count": null,
   "id": "9e5161fb",
   "metadata": {},
   "outputs": [],
   "source": []
  },
  {
   "cell_type": "code",
   "execution_count": null,
   "id": "7aa23b60",
   "metadata": {},
   "outputs": [],
   "source": []
  },
  {
   "cell_type": "code",
   "execution_count": null,
   "id": "34863009",
   "metadata": {},
   "outputs": [],
   "source": []
  }
 ],
 "metadata": {
  "kernelspec": {
   "display_name": "base",
   "language": "python",
   "name": "python3"
  },
  "language_info": {
   "codemirror_mode": {
    "name": "ipython",
    "version": 3
   },
   "file_extension": ".py",
   "mimetype": "text/x-python",
   "name": "python",
   "nbconvert_exporter": "python",
   "pygments_lexer": "ipython3",
   "version": "3.12.7"
  }
 },
 "nbformat": 4,
 "nbformat_minor": 5
}
